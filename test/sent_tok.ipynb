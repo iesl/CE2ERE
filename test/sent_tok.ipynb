{
 "cells": [
  {
   "cell_type": "code",
   "execution_count": 1,
   "source": [
    "from nltk import sent_tokenize\n",
    "from natsort import natsorted\n",
    "import xml.etree.ElementTree as ET"
   ],
   "outputs": [],
   "metadata": {}
  },
  {
   "cell_type": "code",
   "execution_count": null,
   "source": [
    "matres_dir = \"../data/MATRES\""
   ],
   "outputs": [],
   "metadata": {}
  }
 ],
 "metadata": {
  "orig_nbformat": 4,
  "language_info": {
   "name": "python",
   "version": "3.8.10",
   "mimetype": "text/x-python",
   "codemirror_mode": {
    "name": "ipython",
    "version": 3
   },
   "pygments_lexer": "ipython3",
   "nbconvert_exporter": "python",
   "file_extension": ".py"
  },
  "kernelspec": {
   "name": "python3",
   "display_name": "Python 3.8.10 64-bit ('event-relation-extraction': conda)"
  },
  "interpreter": {
   "hash": "e2bc45ccbcc2d9252b9a3575a48e2ff05955e000a4134ecab63a5aaedbcf7d97"
  }
 },
 "nbformat": 4,
 "nbformat_minor": 2
}