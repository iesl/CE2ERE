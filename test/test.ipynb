{
 "cells": [
  {
   "cell_type": "code",
   "execution_count": 5,
   "metadata": {},
   "outputs": [],
   "source": [
    "import numpy as np\n",
    "import torch"
   ]
  },
  {
   "cell_type": "code",
   "execution_count": 36,
   "metadata": {},
   "outputs": [],
   "source": [
    "# alpha = torch.tensor([[-6.2440e-04, -6.9769e-03, -3.6540e-02,  9.8370e-03],\n",
    "#         [ 1.4820e-02,  4.5122e-03,  1.4980e-03, -1.4343e-04],\n",
    "#         [-9.3371e-03, -1.4580e-02, -1.2382e-02, -2.0648e-02],\n",
    "#         [-6.8419e-03, -4.3835e-02, -1.0702e-02, -1.1102e-03],\n",
    "#         [ 1.5573e-02, -6.3330e-03,  3.0480e-02, -1.3281e-03],\n",
    "#         [-4.8299e-02, -7.4960e-03,  5.5111e-03,  2.6260e-02],\n",
    "#         [-1.5719e-02, -2.3742e-02, -1.8838e-02, -4.8486e-03],\n",
    "#         [-5.1837e-02, -1.8685e-02, -2.0055e-02,  9.9632e-03],\n",
    "#         [-1.1376e-03,  3.2609e-03,  1.7306e-02, -1.0861e-02],\n",
    "#         [ 1.3602e-02, -2.9373e-03, -1.5684e-02, -6.6245e-03],\n",
    "#         [ 1.4589e-03, -4.0269e-02, -8.8666e-03, -7.6178e-04],\n",
    "#         [-1.1453e-02, -7.1326e-03,  1.6255e-02,  3.5378e-03],\n",
    "#         [ 1.9842e-02, -7.3610e-03, -4.7047e-03, -8.7368e-03],\n",
    "#         [-8.5470e-04, -6.3244e-03,  1.8792e-02,  1.3427e-02],\n",
    "#         [-1.2544e-02, -1.7028e-02, -7.3795e-03, -1.8406e-03],\n",
    "#         [-7.2444e-03, -3.7003e-03, -3.1503e-03,  3.8686e-03],\n",
    "#         [-3.1648e-02, -1.6138e-02, -1.7453e-03, -1.5589e-02],\n",
    "#         [-6.5706e-03, -1.0682e-02, -2.7784e-03, -9.5975e-03],\n",
    "#         [-2.6421e-02, -1.8134e-02, -8.6265e-03, -1.5606e-02],\n",
    "#         [-3.6054e-03, -2.6445e-02,  1.7822e-02, -9.3706e-05],\n",
    "#         [-2.1657e-02, -3.9235e-02, -4.9948e-03, -1.7686e-02],\n",
    "#         [-1.9879e-02, -1.2592e-02, -5.1674e-03, -2.7170e-02],\n",
    "#         [-1.3311e-02, -8.6591e-03, -6.3246e-03, -4.2183e-02],\n",
    "#         [ 5.0266e-03, -5.4133e-03, -9.1975e-03,  5.9577e-03],\n",
    "#         [ 8.6019e-03, -1.1116e-02, -1.8372e-02, -1.5437e-02],\n",
    "#         [-9.3250e-03, -1.6901e-02, -1.9565e-02,  1.6100e-02],\n",
    "#         [-2.3914e-02,  4.3607e-03,  1.3371e-02,  2.1810e-03],\n",
    "#         [ 3.3859e-03, -8.1889e-03, -3.0303e-04,  6.5514e-03],\n",
    "#         [-6.4075e-03, -2.5703e-02, -1.2208e-02,  1.6657e-02],\n",
    "#         [-4.5952e-03, -6.7107e-03, -1.3333e-02,  6.0811e-03],\n",
    "#         [ 2.7761e-03, -3.9004e-02, -6.8400e-03, -1.3294e-02],\n",
    "#         [-9.9811e-03, -2.3902e-02,  1.3715e-02,  8.2242e-03]])\n",
    "\n",
    "# xy_rel_id = torch.tensor([0, 1, 3, 3, 1, 3, 0, 1, 3, 2, 1, 1, 0, 0, 2, 0, 0, 3, 3, 1, 1, 2, 0, 2,\n",
    "#         3, 0, 1, 0, 0, 3, 3, 1])\n",
    "alpha = torch.tensor([[ 100,  4.5122e-03,  1.4980e-03, -1.4343e-04]])\n",
    "\n",
    "xy_rel_id = torch.tensor([0])"
   ]
  },
  {
   "cell_type": "code",
   "execution_count": 23,
   "metadata": {},
   "outputs": [],
   "source": [
    "hieve_cross_entropy_loss = torch.nn.CrossEntropyLoss()"
   ]
  },
  {
   "cell_type": "code",
   "execution_count": 37,
   "metadata": {},
   "outputs": [
    {
     "data": {
      "text/plain": [
       "tensor(0.)"
      ]
     },
     "execution_count": 37,
     "metadata": {},
     "output_type": "execute_result"
    }
   ],
   "source": [
    "hieve_cross_entropy_loss(alpha, xy_rel_id)"
   ]
  },
  {
   "cell_type": "code",
   "execution_count": null,
   "metadata": {},
   "outputs": [],
   "source": [
    "xy_rel_id = torch.tensor([3, 1, 3, 3, 3, 3, 3, 1, 3, 3, 2, 2, 1, 3, 3, 3, 3, 3, 3, 3, 3, 3, 3, 3,\n",
    "        3, 3, 3, 3, 2, 0, 3, 3], device="cuda:0")\n",
    "xy_rel_ids = torch.tensor([3 1 3 3 3 3 3 1 3 3 2 2 1 3 3 3 3 3 3 3 3 3 3 3 3 3 3 3 2 0 3 3])"
   ]
  },
  {
   "cell_type": "code",
   "execution_count": 2,
   "metadata": {},
   "outputs": [],
   "source": [
    "result_dict = {"0": {"precision": 0.1547085201793722, "recall": 0.700507614213198, "f1-score": 0.2534435261707989, "support": 394}, "1": {"precision": 0.14253320375769354, "recall": 0.8644400785854617, "f1-score": 0.2447163515016685, "support": 509}, "2": {"precision": 0.035762181493071074, "recall": 0.5970149253731343, "f1-score": 0.0674820750738085, "support": 134}, "3": {"precision": 0.0, "recall": 0.0, "f1-score": 0.0, "support": 6071}, "accuracy": 0.11198649409116489, "macro avg": {"precision": 0.0832509763575342, "recall": 0.5404906545429484, "f1-score": 0.14141048818656898, "support": 7108}, "weighted avg": {"precision": 0.019456484240772395, "recall": 0.11198649409116489, "f1-score": 0.03284467786797051, "support": 7108}}"
   ]
  },
  {
   "cell_type": "code",
   "execution_count": 20,
   "metadata": {},
   "outputs": [],
   "source": [
    "def get_micro_metric(metrics: list, supports: list) -> float:\n",
    "    total_true_positive = np.sum(np.array(metrics) * np.array(supports))\n",
    "    total_support = np.sum(supports)\n",
    "\n",
    "    return total_true_positive / total_support\n",
    "\n",
    "\n",
    "def get_macro_metric(metrics: list) -> float:\n",
    "    return np.mean(metrics)\n",
    "\n",
    "\n",
    "def get_f1_score(total_precision: float, total_recall: float) -> float:\n",
    "    return 2 * (total_precision * total_recall) / (total_precision + total_recall)\n",
    "\n",
    "\n",
    "def generate_result_table(precisions: list, recalls: list, supports: list, f1s: list,\n",
    "                          micro_precision: float, macro_precision: float,\n",
    "                          micro_recall: float,    macro_recall: float,\n",
    "                          micro_f1: float,        macro_f1: float) -> str:\n",
    "    total_support = np.sum(supports[:3])\n",
    "    line1 = \"                 precision    recall  f1-score   support\\n\\n\"\n",
    "    line2 = \"   Parent-Child       {p:.2f}      {r:.2f}      {f1:.2f}   {s}\\n\".format(\n",
    "        p=precisions[0], r=recalls[0], f1=f1s[0], s=supports[0]\n",
    "    )\n",
    "    line3 = \"   Child-Parent       {p:.2f}      {r:.2f}      {f1:.2f}   {s}\\n\".format(\n",
    "        p=precisions[1], r=recalls[1], f1=f1s[1], s=supports[1]\n",
    "    )\n",
    "    line4 = \"          CoRef       {p:.2f}      {r:.2f}      {f1:.2f}   {s}\\n\".format(\n",
    "        p=precisions[2], r=recalls[2], f1=f1s[2], s=supports[2]\n",
    "    )\n",
    "    line5 = \"NoRel [ignored]       {p:.2f}      {r:.2f}      {f1:.2f}   {s}\\n\\n\".format(\n",
    "        p=precisions[2], r=recalls[3], f1=f1s[3], s=supports[3]\n",
    "    )\n",
    "    line6 = \"      micro avg       {p:.2f}      {r:.2f}      {f1:.2f}   {s}\\n\".format(\n",
    "        p=micro_precision, r=micro_recall, f1=micro_f1, s=total_support\n",
    "    )\n",
    "    line7 = \"      macro avg       {p:.2f}      {r:.2f}      {f1:.2f}   {s}\".format(\n",
    "        p=macro_precision, r=macro_recall, f1=macro_f1, s=total_support\n",
    "    )\n",
    "\n",
    "    return line1+line2+line3+line4+line5+line6+line7"
   ]
  },
  {
   "cell_type": "code",
   "execution_count": 22,
   "metadata": {},
   "outputs": [],
   "source": [
    "pc_results = result_dict["0"]   # Parent-Child: precision,recall, f1, support\n",
    "cp_results = result_dict["1"]   # Child-Parent: ~\n",
    "cr_results = result_dict["2"]   # CoRef:        ~\n",
    "nr_results = result_dict["3"]   # NoRel:        ~, ignored when calculate F1\n",
    "\n",
    "pc_precision, pc_recall, pc_f1, pc_support = pc_results.values()\n",
    "cp_precision, cp_recall, cp_f1, cp_support = cp_results.values()\n",
    "cr_precision, cr_recall, cr_f1, cr_support = cr_results.values()\n",
    "nr_precision, nr_recall, nr_f1, nr_support = nr_results.values()\n",
    "precisions = [pc_precision, cp_precision, cr_precision, nr_precision]\n",
    "recalls = [pc_recall, cp_recall, cr_recall, nr_recall]\n",
    "supports = [pc_support, cp_support, cr_support, nr_support]\n",
    "f1s = [pc_f1, cp_f1, cr_f1, nr_f1]\n",
    "\n",
    "micro_precision, macro_precision = get_micro_metric(precisions[:3], supports[:3]), get_macro_metric(precisions[:3])\n",
    "micro_recall, macro_recall = get_micro_metric(recalls[:3], supports[:3]), get_macro_metric(recalls[:3])\n",
    "micro_f1, macro_f1 = get_f1_score(micro_precision, micro_recall), get_f1_score(macro_precision, macro_recall)"
   ]
  },
  {
   "cell_type": "code",
   "execution_count": 23,
   "metadata": {},
   "outputs": [
    {
     "name": "stdout",
     "output_type": "stream",
     "text": [
      "                 precision    recall  f1-score   support\n",
      "\n",
      "   Parent-Child       0.15      0.70      0.25   394\n",
      "   Child-Parent       0.14      0.86      0.24   509\n",
      "          CoRef       0.04      0.60      0.07   134\n",
      "NoRel [ignored]       0.04      0.00      0.00   6071\n",
      "\n",
      "      micro avg       0.13      0.77      0.23   1037\n",
      "      macro avg       0.11      0.72      0.19   1037\n"
     ]
    }
   ],
   "source": [
    "result_table = generate_result_table(\n",
    "    precisions, recalls, supports, f1s,\n",
    "    micro_precision, macro_precision,\n",
    "    micro_recall, macro_recall,\n",
    "    micro_f1, macro_f1\n",
    ") \n",
    "print(result_table)"
   ]
  },
  {
   "cell_type": "code",
   "execution_count": null,
   "metadata": {},
   "outputs": [],
   "source": []
  }
 ],
 "metadata": {
  "interpreter": {
   "hash": "e2bc45ccbcc2d9252b9a3575a48e2ff05955e000a4134ecab63a5aaedbcf7d97"
  },
  "kernelspec": {
   "display_name": "Python 3.8.10 64-bit",
   "name": "python3"
  },
  "language_info": {
   "codemirror_mode": {
    "name": "ipython",
    "version": 3
   },
   "file_extension": ".py",
   "mimetype": "text/x-python",
   "name": "python",
   "nbconvert_exporter": "python",
   "pygments_lexer": "ipython3",
   "version": "3.8.10"
  },
  "orig_nbformat": 2
 },
 "nbformat": 4,
 "nbformat_minor": 2
}